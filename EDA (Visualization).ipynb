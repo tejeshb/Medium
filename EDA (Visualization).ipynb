{
 "cells": [
  {
   "cell_type": "code",
   "execution_count": 16,
   "metadata": {},
   "outputs": [],
   "source": [
    "import pandas as pd\n",
    "import numpy as np\n",
    "from datetime import date\n",
    "import calendar\n",
    "import plotly.io as pio\n",
    "import plotly.express as px\n",
    "import chart_studio.plotly as py"
   ]
  },
  {
   "cell_type": "code",
   "execution_count": 2,
   "metadata": {},
   "outputs": [],
   "source": [
    "df = pd.read_csv(\"medium_NLP.csv\")"
   ]
  },
  {
   "cell_type": "code",
   "execution_count": 3,
   "metadata": {},
   "outputs": [
    {
     "data": {
      "text/html": [
       "<div>\n",
       "<style scoped>\n",
       "    .dataframe tbody tr th:only-of-type {\n",
       "        vertical-align: middle;\n",
       "    }\n",
       "\n",
       "    .dataframe tbody tr th {\n",
       "        vertical-align: top;\n",
       "    }\n",
       "\n",
       "    .dataframe thead th {\n",
       "        text-align: right;\n",
       "    }\n",
       "</style>\n",
       "<table border=\"1\" class=\"dataframe\">\n",
       "  <thead>\n",
       "    <tr style=\"text-align: right;\">\n",
       "      <th></th>\n",
       "      <th>Title</th>\n",
       "      <th>Subtitle</th>\n",
       "      <th>Image</th>\n",
       "      <th>Author</th>\n",
       "      <th>Publication</th>\n",
       "      <th>Year</th>\n",
       "      <th>Month</th>\n",
       "      <th>Day</th>\n",
       "      <th>Tag</th>\n",
       "      <th>Reading_Time</th>\n",
       "      <th>Claps</th>\n",
       "      <th>Comment</th>\n",
       "      <th>url</th>\n",
       "      <th>Author_url</th>\n",
       "    </tr>\n",
       "  </thead>\n",
       "  <tbody>\n",
       "    <tr>\n",
       "      <th>0</th>\n",
       "      <td>How to build a State-of-the-Art Conversationa...</td>\n",
       "      <td>NaN</td>\n",
       "      <td>1</td>\n",
       "      <td>Thomas Wolf</td>\n",
       "      <td>HuggingFace</td>\n",
       "      <td>2019</td>\n",
       "      <td>5</td>\n",
       "      <td>9</td>\n",
       "      <td>NLP</td>\n",
       "      <td>12</td>\n",
       "      <td>3.7K</td>\n",
       "      <td>0</td>\n",
       "      <td>https://medium.com/huggingface/how-to-build-a-...</td>\n",
       "      <td>https://medium.com/@Thomwolf?source=tag_archiv...</td>\n",
       "    </tr>\n",
       "    <tr>\n",
       "      <th>1</th>\n",
       "      <td>Smaller, faster, cheaper, lighter: Introducin...</td>\n",
       "      <td>NaN</td>\n",
       "      <td>1</td>\n",
       "      <td>Victor Sanh</td>\n",
       "      <td>HuggingFace</td>\n",
       "      <td>2019</td>\n",
       "      <td>8</td>\n",
       "      <td>28</td>\n",
       "      <td>NLP</td>\n",
       "      <td>10</td>\n",
       "      <td>3.1K</td>\n",
       "      <td>0</td>\n",
       "      <td>https://medium.com/huggingface/distilbert-8cf3...</td>\n",
       "      <td>https://medium.com/@victorsanh?source=tag_arch...</td>\n",
       "    </tr>\n",
       "  </tbody>\n",
       "</table>\n",
       "</div>"
      ],
      "text/plain": [
       "                                               Title Subtitle  Image  \\\n",
       "0   How to build a State-of-the-Art Conversationa...      NaN      1   \n",
       "1   Smaller, faster, cheaper, lighter: Introducin...      NaN      1   \n",
       "\n",
       "        Author  Publication  Year  Month  Day  Tag  Reading_Time Claps  \\\n",
       "0  Thomas Wolf  HuggingFace  2019      5    9  NLP            12  3.7K   \n",
       "1  Victor Sanh  HuggingFace  2019      8   28  NLP            10  3.1K   \n",
       "\n",
       "   Comment                                                url  \\\n",
       "0        0  https://medium.com/huggingface/how-to-build-a-...   \n",
       "1        0  https://medium.com/huggingface/distilbert-8cf3...   \n",
       "\n",
       "                                          Author_url  \n",
       "0  https://medium.com/@Thomwolf?source=tag_archiv...  \n",
       "1  https://medium.com/@victorsanh?source=tag_arch...  "
      ]
     },
     "execution_count": 3,
     "metadata": {},
     "output_type": "execute_result"
    }
   ],
   "source": [
    "df.head(2)"
   ]
  },
  {
   "cell_type": "code",
   "execution_count": 4,
   "metadata": {},
   "outputs": [
    {
     "data": {
      "text/html": [
       "<div>\n",
       "<style scoped>\n",
       "    .dataframe tbody tr th:only-of-type {\n",
       "        vertical-align: middle;\n",
       "    }\n",
       "\n",
       "    .dataframe tbody tr th {\n",
       "        vertical-align: top;\n",
       "    }\n",
       "\n",
       "    .dataframe thead th {\n",
       "        text-align: right;\n",
       "    }\n",
       "</style>\n",
       "<table border=\"1\" class=\"dataframe\">\n",
       "  <thead>\n",
       "    <tr style=\"text-align: right;\">\n",
       "      <th></th>\n",
       "      <th>Title</th>\n",
       "      <th>Subtitle</th>\n",
       "      <th>Image</th>\n",
       "      <th>Author</th>\n",
       "      <th>Publication</th>\n",
       "      <th>Year</th>\n",
       "      <th>Month</th>\n",
       "      <th>Day</th>\n",
       "      <th>Tag</th>\n",
       "      <th>Reading_Time</th>\n",
       "      <th>Claps</th>\n",
       "      <th>Comment</th>\n",
       "      <th>url</th>\n",
       "      <th>Author_url</th>\n",
       "    </tr>\n",
       "  </thead>\n",
       "  <tbody>\n",
       "    <tr>\n",
       "      <th>3775</th>\n",
       "      <td>NaN</td>\n",
       "      <td>NaN</td>\n",
       "      <td>0</td>\n",
       "      <td>Nick Saraev</td>\n",
       "      <td>NaN</td>\n",
       "      <td>2020</td>\n",
       "      <td>5</td>\n",
       "      <td>1</td>\n",
       "      <td>NLP</td>\n",
       "      <td>0</td>\n",
       "      <td>0</td>\n",
       "      <td>1</td>\n",
       "      <td>https://medium.com/voice-tech-global/conversat...</td>\n",
       "      <td>https://medium.com/@nick_wells?source=tag_arch...</td>\n",
       "    </tr>\n",
       "    <tr>\n",
       "      <th>3776</th>\n",
       "      <td>NaN</td>\n",
       "      <td>NaN</td>\n",
       "      <td>0</td>\n",
       "      <td>Nick Saraev</td>\n",
       "      <td>NaN</td>\n",
       "      <td>2020</td>\n",
       "      <td>5</td>\n",
       "      <td>1</td>\n",
       "      <td>NLP</td>\n",
       "      <td>0</td>\n",
       "      <td>0</td>\n",
       "      <td>1</td>\n",
       "      <td>https://medium.com/@CobusGreyling/managing-use...</td>\n",
       "      <td>https://medium.com/@nick_wells?source=tag_arch...</td>\n",
       "    </tr>\n",
       "  </tbody>\n",
       "</table>\n",
       "</div>"
      ],
      "text/plain": [
       "     Title Subtitle  Image       Author Publication  Year  Month  Day  Tag  \\\n",
       "3775   NaN      NaN      0  Nick Saraev         NaN  2020      5    1  NLP   \n",
       "3776   NaN      NaN      0  Nick Saraev         NaN  2020      5    1  NLP   \n",
       "\n",
       "      Reading_Time Claps  Comment  \\\n",
       "3775             0     0        1   \n",
       "3776             0     0        1   \n",
       "\n",
       "                                                    url  \\\n",
       "3775  https://medium.com/voice-tech-global/conversat...   \n",
       "3776  https://medium.com/@CobusGreyling/managing-use...   \n",
       "\n",
       "                                             Author_url  \n",
       "3775  https://medium.com/@nick_wells?source=tag_arch...  \n",
       "3776  https://medium.com/@nick_wells?source=tag_arch...  "
      ]
     },
     "execution_count": 4,
     "metadata": {},
     "output_type": "execute_result"
    }
   ],
   "source": [
    "df.tail(2)"
   ]
  },
  {
   "cell_type": "code",
   "execution_count": 5,
   "metadata": {},
   "outputs": [],
   "source": [
    "df_clean = df.iloc[:,0:12]"
   ]
  },
  {
   "cell_type": "code",
   "execution_count": 7,
   "metadata": {},
   "outputs": [
    {
     "data": {
      "text/html": [
       "<div>\n",
       "<style scoped>\n",
       "    .dataframe tbody tr th:only-of-type {\n",
       "        vertical-align: middle;\n",
       "    }\n",
       "\n",
       "    .dataframe tbody tr th {\n",
       "        vertical-align: top;\n",
       "    }\n",
       "\n",
       "    .dataframe thead th {\n",
       "        text-align: right;\n",
       "    }\n",
       "</style>\n",
       "<table border=\"1\" class=\"dataframe\">\n",
       "  <thead>\n",
       "    <tr style=\"text-align: right;\">\n",
       "      <th></th>\n",
       "      <th>Title</th>\n",
       "      <th>Subtitle</th>\n",
       "      <th>Image</th>\n",
       "      <th>Author</th>\n",
       "      <th>Publication</th>\n",
       "      <th>Year</th>\n",
       "      <th>Month</th>\n",
       "      <th>Day</th>\n",
       "      <th>Tag</th>\n",
       "      <th>Reading_Time</th>\n",
       "      <th>Claps</th>\n",
       "      <th>Comment</th>\n",
       "    </tr>\n",
       "  </thead>\n",
       "  <tbody>\n",
       "    <tr>\n",
       "      <th>0</th>\n",
       "      <td>How to build a State-of-the-Art Conversationa...</td>\n",
       "      <td>NaN</td>\n",
       "      <td>1</td>\n",
       "      <td>Thomas Wolf</td>\n",
       "      <td>HuggingFace</td>\n",
       "      <td>2019</td>\n",
       "      <td>5</td>\n",
       "      <td>9</td>\n",
       "      <td>NLP</td>\n",
       "      <td>12</td>\n",
       "      <td>3.7K</td>\n",
       "      <td>0</td>\n",
       "    </tr>\n",
       "    <tr>\n",
       "      <th>1</th>\n",
       "      <td>Smaller, faster, cheaper, lighter: Introducin...</td>\n",
       "      <td>NaN</td>\n",
       "      <td>1</td>\n",
       "      <td>Victor Sanh</td>\n",
       "      <td>HuggingFace</td>\n",
       "      <td>2019</td>\n",
       "      <td>8</td>\n",
       "      <td>28</td>\n",
       "      <td>NLP</td>\n",
       "      <td>10</td>\n",
       "      <td>3.1K</td>\n",
       "      <td>0</td>\n",
       "    </tr>\n",
       "  </tbody>\n",
       "</table>\n",
       "</div>"
      ],
      "text/plain": [
       "                                               Title Subtitle  Image  \\\n",
       "0   How to build a State-of-the-Art Conversationa...      NaN      1   \n",
       "1   Smaller, faster, cheaper, lighter: Introducin...      NaN      1   \n",
       "\n",
       "        Author  Publication  Year  Month  Day  Tag  Reading_Time Claps  \\\n",
       "0  Thomas Wolf  HuggingFace  2019      5    9  NLP            12  3.7K   \n",
       "1  Victor Sanh  HuggingFace  2019      8   28  NLP            10  3.1K   \n",
       "\n",
       "   Comment  \n",
       "0        0  \n",
       "1        0  "
      ]
     },
     "execution_count": 7,
     "metadata": {},
     "output_type": "execute_result"
    }
   ],
   "source": [
    "df_clean.head(2)"
   ]
  },
  {
   "cell_type": "code",
   "execution_count": 6,
   "metadata": {},
   "outputs": [],
   "source": [
    "df_clean['Date'] = pd.to_datetime(df[[\"Year\",\"Month\",\"Day\"]])"
   ]
  },
  {
   "cell_type": "code",
   "execution_count": 8,
   "metadata": {},
   "outputs": [
    {
     "data": {
      "text/plain": [
       "'Monday'"
      ]
     },
     "execution_count": 8,
     "metadata": {},
     "output_type": "execute_result"
    }
   ],
   "source": [
    "my_date = date.today()\n",
    "calendar.day_name[my_date.weekday()] "
   ]
  },
  {
   "cell_type": "code",
   "execution_count": 11,
   "metadata": {},
   "outputs": [],
   "source": [
    "pio.renderers.default = 'iframe'"
   ]
  },
  {
   "cell_type": "code",
   "execution_count": 16,
   "metadata": {},
   "outputs": [
    {
     "data": {
      "text/plain": [
       "array(['Friday', 'Monday', 'Saturday', 'Sunday', 'Thursday', 'Tuesday',\n",
       "       'Wednesday'], dtype=object)"
      ]
     },
     "execution_count": 16,
     "metadata": {},
     "output_type": "execute_result"
    }
   ],
   "source": [
    "np.unique(df_clean['Date'].dt.day_name())"
   ]
  },
  {
   "cell_type": "code",
   "execution_count": 17,
   "metadata": {},
   "outputs": [
    {
     "data": {
      "text/html": [
       "<iframe\n",
       "    scrolling=\"no\"\n",
       "    width=\"100%\"\n",
       "    height=\"545px\"\n",
       "    src=\"iframe_figures/figure_17.html\"\n",
       "    frameborder=\"0\"\n",
       "    allowfullscreen\n",
       "></iframe>\n"
      ]
     },
     "metadata": {},
     "output_type": "display_data"
    },
    {
     "data": {
      "text/html": [
       "<iframe\n",
       "    scrolling=\"no\"\n",
       "    width=\"100%\"\n",
       "    height=\"545px\"\n",
       "    src=\"iframe_figures/figure_17.html\"\n",
       "    frameborder=\"0\"\n",
       "    allowfullscreen\n",
       "></iframe>\n"
      ]
     },
     "metadata": {},
     "output_type": "display_data"
    },
    {
     "data": {
      "text/html": [
       "<iframe\n",
       "    scrolling=\"no\"\n",
       "    width=\"100%\"\n",
       "    height=\"545px\"\n",
       "    src=\"iframe_figures/figure_17.html\"\n",
       "    frameborder=\"0\"\n",
       "    allowfullscreen\n",
       "></iframe>\n"
      ]
     },
     "metadata": {},
     "output_type": "display_data"
    },
    {
     "data": {
      "text/html": [
       "<iframe\n",
       "    scrolling=\"no\"\n",
       "    width=\"100%\"\n",
       "    height=\"545px\"\n",
       "    src=\"iframe_figures/figure_17.html\"\n",
       "    frameborder=\"0\"\n",
       "    allowfullscreen\n",
       "></iframe>\n"
      ]
     },
     "metadata": {},
     "output_type": "display_data"
    },
    {
     "data": {
      "text/html": [
       "<iframe\n",
       "    scrolling=\"no\"\n",
       "    width=\"100%\"\n",
       "    height=\"545px\"\n",
       "    src=\"iframe_figures/figure_17.html\"\n",
       "    frameborder=\"0\"\n",
       "    allowfullscreen\n",
       "></iframe>\n"
      ]
     },
     "metadata": {},
     "output_type": "display_data"
    },
    {
     "data": {
      "text/html": [
       "<iframe\n",
       "    scrolling=\"no\"\n",
       "    width=\"100%\"\n",
       "    height=\"545px\"\n",
       "    src=\"iframe_figures/figure_17.html\"\n",
       "    frameborder=\"0\"\n",
       "    allowfullscreen\n",
       "></iframe>\n"
      ]
     },
     "metadata": {},
     "output_type": "display_data"
    },
    {
     "data": {
      "text/html": [
       "<iframe\n",
       "    scrolling=\"no\"\n",
       "    width=\"100%\"\n",
       "    height=\"545px\"\n",
       "    src=\"iframe_figures/figure_17.html\"\n",
       "    frameborder=\"0\"\n",
       "    allowfullscreen\n",
       "></iframe>\n"
      ]
     },
     "metadata": {},
     "output_type": "display_data"
    },
    {
     "data": {
      "text/html": [
       "<iframe\n",
       "    scrolling=\"no\"\n",
       "    width=\"100%\"\n",
       "    height=\"545px\"\n",
       "    src=\"iframe_figures/figure_17.html\"\n",
       "    frameborder=\"0\"\n",
       "    allowfullscreen\n",
       "></iframe>\n"
      ]
     },
     "metadata": {},
     "output_type": "display_data"
    },
    {
     "data": {
      "text/html": [
       "<iframe\n",
       "    scrolling=\"no\"\n",
       "    width=\"100%\"\n",
       "    height=\"545px\"\n",
       "    src=\"iframe_figures/figure_17.html\"\n",
       "    frameborder=\"0\"\n",
       "    allowfullscreen\n",
       "></iframe>\n"
      ]
     },
     "metadata": {},
     "output_type": "display_data"
    },
    {
     "data": {
      "text/html": [
       "<iframe\n",
       "    scrolling=\"no\"\n",
       "    width=\"100%\"\n",
       "    height=\"545px\"\n",
       "    src=\"iframe_figures/figure_17.html\"\n",
       "    frameborder=\"0\"\n",
       "    allowfullscreen\n",
       "></iframe>\n"
      ]
     },
     "metadata": {},
     "output_type": "display_data"
    },
    {
     "data": {
      "text/html": [
       "<iframe\n",
       "    scrolling=\"no\"\n",
       "    width=\"100%\"\n",
       "    height=\"545px\"\n",
       "    src=\"iframe_figures/figure_17.html\"\n",
       "    frameborder=\"0\"\n",
       "    allowfullscreen\n",
       "></iframe>\n"
      ]
     },
     "metadata": {},
     "output_type": "display_data"
    }
   ],
   "source": [
    "\n",
    "for template in ['ggplot2', 'seaborn', 'simple_white', 'plotly',\n",
    "         'plotly_white', 'plotly_dark', 'presentation', 'xgridoff',\n",
    "         'ygridoff', 'gridon', 'none']:\n",
    "    fig = px.histogram(x=np.unique(df_clean['Date'].dt.day_name()) ,y = df_clean['Date'].dt.day_name().value_counts(),\n",
    "                 template = template,\n",
    "                #text = df_clean['Date'].dt.day_name().value_counts(),\n",
    "                color =np.unique(df_clean['Date'].dt.day_name()),\n",
    "                title= 'Day wise # of publications'\n",
    "                )\n",
    "    fig.show()"
   ]
  },
  {
   "cell_type": "code",
   "execution_count": 18,
   "metadata": {},
   "outputs": [
    {
     "data": {
      "text/plain": [
       "Title                   object\n",
       "Subtitle                object\n",
       "Image                    int64\n",
       "Author                  object\n",
       "Publication             object\n",
       "Year                     int64\n",
       "Month                    int64\n",
       "Day                      int64\n",
       "Tag                     object\n",
       "Reading_Time             int64\n",
       "Claps                   object\n",
       "Comment                  int64\n",
       "Date            datetime64[ns]\n",
       "dtype: object"
      ]
     },
     "execution_count": 18,
     "metadata": {},
     "output_type": "execute_result"
    }
   ],
   "source": [
    "df_clean.dtypes"
   ]
  },
  {
   "cell_type": "code",
   "execution_count": 14,
   "metadata": {},
   "outputs": [],
   "source": [
    "Score = pd.DataFrame()\n",
    "Score['day'] = df_clean['Date'].dt.day_name()\n",
    "Score['claps'] = df_clean['Claps']"
   ]
  },
  {
   "cell_type": "code",
   "execution_count": 18,
   "metadata": {},
   "outputs": [
    {
     "data": {
      "text/html": [
       "\n",
       "        <iframe\n",
       "            width=\"100%\"\n",
       "            height=\"525px\"\n",
       "            src=\"https://plotly.com/~tej_bat/52.embed\"\n",
       "            frameborder=\"0\"\n",
       "            allowfullscreen\n",
       "        ></iframe>\n",
       "        "
      ],
      "text/plain": [
       "<IPython.lib.display.IFrame at 0x10f445b50>"
      ]
     },
     "execution_count": 18,
     "metadata": {},
     "output_type": "execute_result"
    }
   ],
   "source": [
    "fig = px.histogram(Score, x='day' ,y = 'claps',\n",
    "                 template = template,histfunc='avg',\n",
    "                #text = df_clean['Claps'],\n",
    "                color = 'day'\n",
    "                #title= 'claps'\n",
    "                  \n",
    "                ,labels={'x':'Day', 'y':'Mean of Claps'})\n",
    "fig.update_layout(xaxis_type='category',xaxis={'categoryorder':'total descending'},title = 'Average Claps Based on Release Day')\n",
    "fig.update_layout(showlegend=False)\n",
    "\n",
    "py.iplot(fig, filename='Avg_Claps_Day')\n"
   ]
  },
  {
   "cell_type": "code",
   "execution_count": 27,
   "metadata": {},
   "outputs": [],
   "source": [
    "units= {\"K\":1000,\"M\":1000000}\n",
    "result=[]\n",
    "for n in df_clean['Claps']:\n",
    "        try:\n",
    "            result.append( float(n) )  #try to comber it to a number\n",
    "        except ValueError:\n",
    "            unit=n[-1]                 #get the letter\n",
    "            n = float( n[:-1] )        #convert all but the letter\n",
    "            result.append( n * units[unit] )\n"
   ]
  },
  {
   "cell_type": "code",
   "execution_count": 28,
   "metadata": {},
   "outputs": [],
   "source": [
    "df_clean['Claps'] = result"
   ]
  },
  {
   "cell_type": "code",
   "execution_count": 29,
   "metadata": {
    "scrolled": true
   },
   "outputs": [
    {
     "data": {
      "text/html": [
       "<iframe\n",
       "    scrolling=\"no\"\n",
       "    width=\"100%\"\n",
       "    height=\"545px\"\n",
       "    src=\"iframe_figures/figure_29.html\"\n",
       "    frameborder=\"0\"\n",
       "    allowfullscreen\n",
       "></iframe>\n"
      ]
     },
     "metadata": {},
     "output_type": "display_data"
    }
   ],
   "source": [
    "fig = px.histogram(df_clean, x='Claps',\n",
    "                  #color=\"day\", \n",
    "                   #facet_col=\"day\",\n",
    "                   nbins=10,\n",
    "                  log_y=True)\n",
    "\n",
    "#fig.update_layout(xaxis_type='category',xaxis={'categoryorder':'total descending'})\n",
    "\n",
    "fig.show()"
   ]
  },
  {
   "cell_type": "code",
   "execution_count": 30,
   "metadata": {},
   "outputs": [],
   "source": [
    "over_10_claps = ['more' if claps > 10 else 'less' for claps in df_clean['Claps']]\n"
   ]
  },
  {
   "cell_type": "code",
   "execution_count": 31,
   "metadata": {},
   "outputs": [],
   "source": [
    "criteria = [df_clean['Claps'].between(0, 10), df_clean['Claps'].between(11, 100), df_clean['Claps'].between(101, 4000)]\n",
    "values = ['0-5', '6-10', '>10']\n",
    "\n",
    "df_clean['Clap_Range'] = np.select(criteria, values, 0)"
   ]
  },
  {
   "cell_type": "code",
   "execution_count": 33,
   "metadata": {},
   "outputs": [
    {
     "data": {
      "text/html": [
       "\n",
       "        <iframe\n",
       "            width=\"100%\"\n",
       "            height=\"525px\"\n",
       "            src=\"https://plotly.com/~tej_bat/56.embed\"\n",
       "            frameborder=\"0\"\n",
       "            allowfullscreen\n",
       "        ></iframe>\n",
       "        "
      ],
      "text/plain": [
       "<IPython.lib.display.IFrame at 0x1173d3e10>"
      ]
     },
     "execution_count": 33,
     "metadata": {},
     "output_type": "execute_result"
    }
   ],
   "source": [
    "fig = px.histogram(df_clean, x='Clap_Range'\n",
    "                   #facet_col=\"day\",\n",
    "                #nbins=2\n",
    "            )\n",
    "\n",
    "#fig.update_layout(xaxis_type='category',xaxis={'categoryorder':'total descending'})\n",
    "\n",
    "fig.update_layout(title = 'Claps Range')\n",
    "\n",
    "py.iplot(fig, filename='Claps_Range')\n"
   ]
  },
  {
   "cell_type": "code",
   "execution_count": 31,
   "metadata": {},
   "outputs": [],
   "source": [
    "pub = ['no' if Publication != Publication else 'Yes' for Publication in df_clean['Publication']]"
   ]
  },
  {
   "cell_type": "code",
   "execution_count": 32,
   "metadata": {},
   "outputs": [
    {
     "name": "stdout",
     "output_type": "stream",
     "text": [
      "0         HuggingFace\n",
      "1         HuggingFace\n",
      "2        Turing Talks\n",
      "3    Rakuten RapidAPI\n",
      "4                 NaN\n",
      "Name: Publication, dtype: object\n"
     ]
    },
    {
     "data": {
      "text/plain": [
       "['Yes', 'Yes', 'Yes', 'Yes', 'no']"
      ]
     },
     "execution_count": 32,
     "metadata": {},
     "output_type": "execute_result"
    }
   ],
   "source": [
    "print(df_clean['Publication'][:5])\n",
    "pub[:5]"
   ]
  },
  {
   "cell_type": "code",
   "execution_count": 212,
   "metadata": {},
   "outputs": [
    {
     "data": {
      "text/html": [
       "<div>\n",
       "<style scoped>\n",
       "    .dataframe tbody tr th:only-of-type {\n",
       "        vertical-align: middle;\n",
       "    }\n",
       "\n",
       "    .dataframe tbody tr th {\n",
       "        vertical-align: top;\n",
       "    }\n",
       "\n",
       "    .dataframe thead th {\n",
       "        text-align: right;\n",
       "    }\n",
       "</style>\n",
       "<table border=\"1\" class=\"dataframe\">\n",
       "  <thead>\n",
       "    <tr style=\"text-align: right;\">\n",
       "      <th></th>\n",
       "      <th>day</th>\n",
       "      <th>claps</th>\n",
       "    </tr>\n",
       "  </thead>\n",
       "  <tbody>\n",
       "    <tr>\n",
       "      <th>0</th>\n",
       "      <td>Thursday</td>\n",
       "      <td>3700.0</td>\n",
       "    </tr>\n",
       "    <tr>\n",
       "      <th>1</th>\n",
       "      <td>Wednesday</td>\n",
       "      <td>3100.0</td>\n",
       "    </tr>\n",
       "  </tbody>\n",
       "</table>\n",
       "</div>"
      ],
      "text/plain": [
       "         day   claps\n",
       "0   Thursday  3700.0\n",
       "1  Wednesday  3100.0"
      ]
     },
     "execution_count": 212,
     "metadata": {},
     "output_type": "execute_result"
    }
   ],
   "source": [
    "Score.head(2)"
   ]
  },
  {
   "cell_type": "code",
   "execution_count": 205,
   "metadata": {},
   "outputs": [],
   "source": [
    "import chart_studio\n",
    "chart_studio.tools.set_credentials_file(username='tej_bat', api_key='xxxxxxxxxxx')"
   ]
  },
  {
   "cell_type": "code",
   "execution_count": 265,
   "metadata": {},
   "outputs": [],
   "source": [
    "df_clean['month_']=df_clean['till_month'].astype('category')"
   ]
  },
  {
   "cell_type": "code",
   "execution_count": 38,
   "metadata": {},
   "outputs": [
    {
     "data": {
      "text/html": [
       "<div>\n",
       "<style scoped>\n",
       "    .dataframe tbody tr th:only-of-type {\n",
       "        vertical-align: middle;\n",
       "    }\n",
       "\n",
       "    .dataframe tbody tr th {\n",
       "        vertical-align: top;\n",
       "    }\n",
       "\n",
       "    .dataframe thead th {\n",
       "        text-align: right;\n",
       "    }\n",
       "</style>\n",
       "<table border=\"1\" class=\"dataframe\">\n",
       "  <thead>\n",
       "    <tr style=\"text-align: right;\">\n",
       "      <th></th>\n",
       "      <th>Title</th>\n",
       "      <th>Subtitle</th>\n",
       "      <th>Image</th>\n",
       "      <th>Author</th>\n",
       "      <th>Publication</th>\n",
       "      <th>Year</th>\n",
       "      <th>Month</th>\n",
       "      <th>Day</th>\n",
       "      <th>Tag</th>\n",
       "      <th>Reading_Time</th>\n",
       "      <th>Claps</th>\n",
       "      <th>Comment</th>\n",
       "      <th>Date</th>\n",
       "      <th>Clap_Range</th>\n",
       "    </tr>\n",
       "  </thead>\n",
       "  <tbody>\n",
       "    <tr>\n",
       "      <th>0</th>\n",
       "      <td>How to build a State-of-the-Art Conversationa...</td>\n",
       "      <td>NaN</td>\n",
       "      <td>1</td>\n",
       "      <td>Thomas Wolf</td>\n",
       "      <td>HuggingFace</td>\n",
       "      <td>2019</td>\n",
       "      <td>5</td>\n",
       "      <td>9</td>\n",
       "      <td>NLP</td>\n",
       "      <td>12</td>\n",
       "      <td>3700.0</td>\n",
       "      <td>0</td>\n",
       "      <td>2019-05-09</td>\n",
       "      <td>&gt;10</td>\n",
       "    </tr>\n",
       "    <tr>\n",
       "      <th>1</th>\n",
       "      <td>Smaller, faster, cheaper, lighter: Introducin...</td>\n",
       "      <td>NaN</td>\n",
       "      <td>1</td>\n",
       "      <td>Victor Sanh</td>\n",
       "      <td>HuggingFace</td>\n",
       "      <td>2019</td>\n",
       "      <td>8</td>\n",
       "      <td>28</td>\n",
       "      <td>NLP</td>\n",
       "      <td>10</td>\n",
       "      <td>3100.0</td>\n",
       "      <td>0</td>\n",
       "      <td>2019-08-28</td>\n",
       "      <td>&gt;10</td>\n",
       "    </tr>\n",
       "  </tbody>\n",
       "</table>\n",
       "</div>"
      ],
      "text/plain": [
       "                                               Title Subtitle  Image  \\\n",
       "0   How to build a State-of-the-Art Conversationa...      NaN      1   \n",
       "1   Smaller, faster, cheaper, lighter: Introducin...      NaN      1   \n",
       "\n",
       "        Author  Publication  Year  Month  Day  Tag  Reading_Time   Claps  \\\n",
       "0  Thomas Wolf  HuggingFace  2019      5    9  NLP            12  3700.0   \n",
       "1  Victor Sanh  HuggingFace  2019      8   28  NLP            10  3100.0   \n",
       "\n",
       "   Comment       Date Clap_Range  \n",
       "0        0 2019-05-09        >10  \n",
       "1        0 2019-08-28        >10  "
      ]
     },
     "execution_count": 38,
     "metadata": {},
     "output_type": "execute_result"
    }
   ],
   "source": [
    "df_clean.head(2)"
   ]
  },
  {
   "cell_type": "code",
   "execution_count": 249,
   "metadata": {},
   "outputs": [],
   "source": [
    "df_clean['till_month'] = df_clean['Date'].dt.to_period('M')\n"
   ]
  },
  {
   "cell_type": "code",
   "execution_count": 42,
   "metadata": {},
   "outputs": [
    {
     "name": "stdout",
     "output_type": "stream",
     "text": [
      "2020-05-01 00:00:00\n",
      "2019-05-01 00:00:00\n",
      "366 days 00:00:00\n"
     ]
    }
   ],
   "source": [
    "print(max(df_clean['Date']))\n",
    "print(min(df_clean['Date']))\n",
    "print(max(df_clean['Date']) - min(df_clean['Date']))"
   ]
  },
  {
   "cell_type": "code",
   "execution_count": 46,
   "metadata": {},
   "outputs": [
    {
     "data": {
      "text/plain": [
       "2477   2019-05-01\n",
       "2727   2019-05-01\n",
       "3235   2019-05-01\n",
       "1408   2019-05-01\n",
       "473    2019-05-01\n",
       "Name: Date, dtype: datetime64[ns]"
      ]
     },
     "execution_count": 46,
     "metadata": {},
     "output_type": "execute_result"
    }
   ],
   "source": [
    "date_from_df = (df_clean['Date']).sort_values()\n",
    "date_from_df[:5]"
   ]
  },
  {
   "cell_type": "code",
   "execution_count": 157,
   "metadata": {},
   "outputs": [],
   "source": [
    "day_age = []\n",
    "day_age = (date_from_df - min(date_from_df)).astype('timedelta64[D]')"
   ]
  },
  {
   "cell_type": "code",
   "execution_count": 158,
   "metadata": {},
   "outputs": [],
   "source": [
    "#day_age = day_age.astype(int)\n",
    "day_age = (day_age/30).astype('int')"
   ]
  },
  {
   "cell_type": "code",
   "execution_count": 159,
   "metadata": {},
   "outputs": [],
   "source": [
    "df_clean_sorted = df_clean.sort_values('Date')"
   ]
  },
  {
   "cell_type": "code",
   "execution_count": 160,
   "metadata": {},
   "outputs": [],
   "source": [
    "df_clean_sorted['Day_Age'] = day_age"
   ]
  },
  {
   "cell_type": "code",
   "execution_count": 161,
   "metadata": {},
   "outputs": [
    {
     "data": {
      "text/plain": [
       "52.285714285714285"
      ]
     },
     "execution_count": 161,
     "metadata": {},
     "output_type": "execute_result"
    }
   ],
   "source": [
    "366/7"
   ]
  },
  {
   "cell_type": "code",
   "execution_count": 162,
   "metadata": {},
   "outputs": [
    {
     "data": {
      "text/plain": [
       "array([ 0,  1,  2,  3,  4,  5,  6,  7,  8,  9, 10, 11, 12])"
      ]
     },
     "execution_count": 162,
     "metadata": {},
     "output_type": "execute_result"
    }
   ],
   "source": [
    "np.unique(day_age)"
   ]
  },
  {
   "cell_type": "code",
   "execution_count": 163,
   "metadata": {},
   "outputs": [
    {
     "data": {
      "text/plain": [
       "2477     0\n",
       "2727     0\n",
       "3235     0\n",
       "1408     0\n",
       "473      0\n",
       "        ..\n",
       "1522    12\n",
       "1317    12\n",
       "722     12\n",
       "2329    12\n",
       "3776    12\n",
       "Name: Date, Length: 3777, dtype: int64"
      ]
     },
     "execution_count": 163,
     "metadata": {},
     "output_type": "execute_result"
    }
   ],
   "source": [
    "day_age"
   ]
  },
  {
   "cell_type": "code",
   "execution_count": 164,
   "metadata": {},
   "outputs": [
    {
     "data": {
      "text/html": [
       "<div>\n",
       "<style scoped>\n",
       "    .dataframe tbody tr th:only-of-type {\n",
       "        vertical-align: middle;\n",
       "    }\n",
       "\n",
       "    .dataframe tbody tr th {\n",
       "        vertical-align: top;\n",
       "    }\n",
       "\n",
       "    .dataframe thead th {\n",
       "        text-align: right;\n",
       "    }\n",
       "</style>\n",
       "<table border=\"1\" class=\"dataframe\">\n",
       "  <thead>\n",
       "    <tr style=\"text-align: right;\">\n",
       "      <th></th>\n",
       "      <th>Title</th>\n",
       "      <th>Subtitle</th>\n",
       "      <th>Image</th>\n",
       "      <th>Author</th>\n",
       "      <th>Publication</th>\n",
       "      <th>Year</th>\n",
       "      <th>Month</th>\n",
       "      <th>Day</th>\n",
       "      <th>Tag</th>\n",
       "      <th>Reading_Time</th>\n",
       "      <th>Claps</th>\n",
       "      <th>Comment</th>\n",
       "      <th>Date</th>\n",
       "      <th>Clap_Range</th>\n",
       "      <th>Day_Age</th>\n",
       "    </tr>\n",
       "  </thead>\n",
       "  <tbody>\n",
       "    <tr>\n",
       "      <th>2477</th>\n",
       "      <td>NaN</td>\n",
       "      <td>NaN</td>\n",
       "      <td>1</td>\n",
       "      <td></td>\n",
       "      <td>NaN</td>\n",
       "      <td>2019</td>\n",
       "      <td>5</td>\n",
       "      <td>1</td>\n",
       "      <td>NLP</td>\n",
       "      <td>6</td>\n",
       "      <td>2.0</td>\n",
       "      <td>0</td>\n",
       "      <td>2019-05-01</td>\n",
       "      <td>0-5</td>\n",
       "      <td>0</td>\n",
       "    </tr>\n",
       "    <tr>\n",
       "      <th>2727</th>\n",
       "      <td>I Googled for you: Natural Language Generation</td>\n",
       "      <td>Here are some resources to get you (me) starte...</td>\n",
       "      <td>1</td>\n",
       "      <td>Markos Giannopoulos</td>\n",
       "      <td>Human on Tech</td>\n",
       "      <td>2019</td>\n",
       "      <td>5</td>\n",
       "      <td>1</td>\n",
       "      <td>NLP</td>\n",
       "      <td>3</td>\n",
       "      <td>1.0</td>\n",
       "      <td>0</td>\n",
       "      <td>2019-05-01</td>\n",
       "      <td>0-5</td>\n",
       "      <td>0</td>\n",
       "    </tr>\n",
       "  </tbody>\n",
       "</table>\n",
       "</div>"
      ],
      "text/plain": [
       "                                               Title  \\\n",
       "2477                                             NaN   \n",
       "2727  I Googled for you: Natural Language Generation   \n",
       "\n",
       "                                               Subtitle  Image  \\\n",
       "2477                                                NaN      1   \n",
       "2727  Here are some resources to get you (me) starte...      1   \n",
       "\n",
       "                   Author    Publication  Year  Month  Day  Tag  Reading_Time  \\\n",
       "2477                                 NaN  2019      5    1  NLP             6   \n",
       "2727  Markos Giannopoulos  Human on Tech  2019      5    1  NLP             3   \n",
       "\n",
       "      Claps  Comment       Date Clap_Range  Day_Age  \n",
       "2477    2.0        0 2019-05-01        0-5        0  \n",
       "2727    1.0        0 2019-05-01        0-5        0  "
      ]
     },
     "execution_count": 164,
     "metadata": {},
     "output_type": "execute_result"
    }
   ],
   "source": [
    "df_clean_sorted.head(2)"
   ]
  },
  {
   "cell_type": "code",
   "execution_count": 165,
   "metadata": {},
   "outputs": [],
   "source": [
    "df_clean_sorted_I = df_clean_sorted[['Reading_Time','Claps','Day_Age','Author',]]"
   ]
  },
  {
   "cell_type": "code",
   "execution_count": 175,
   "metadata": {},
   "outputs": [
    {
     "data": {
      "text/html": [
       "\n",
       "        <iframe\n",
       "            width=\"100%\"\n",
       "            height=\"525px\"\n",
       "            src=\"https://plotly.com/~tej_bat/32.embed\"\n",
       "            frameborder=\"0\"\n",
       "            allowfullscreen\n",
       "        ></iframe>\n",
       "        "
      ],
      "text/plain": [
       "<IPython.lib.display.IFrame at 0x1211583d0>"
      ]
     },
     "execution_count": 175,
     "metadata": {},
     "output_type": "execute_result"
    }
   ],
   "source": [
    "fig = px.scatter(df_clean_sorted_I.iloc[2001:2500,], x=\"Reading_Time\", y=\"Claps\", animation_frame=\"Day_Age\", animation_group=\"Author\",\n",
    "                 size=\"Claps\", color=\"Author\", hover_name=\"Author\",size_max=100)\n",
    "fig.update_layout(title = 'Day Wise Trend')\n",
    "\n",
    "py.iplot(fig, filename='Day_Wise_Trend 2')"
   ]
  },
  {
   "cell_type": "code",
   "execution_count": 176,
   "metadata": {},
   "outputs": [],
   "source": [
    "df_features = pd.read_csv('df_features.csv')"
   ]
  },
  {
   "cell_type": "code",
   "execution_count": 177,
   "metadata": {},
   "outputs": [
    {
     "data": {
      "text/plain": [
       "Title                  object\n",
       "Subtitle               object\n",
       "Image                   int64\n",
       "Author                 object\n",
       "Publication            object\n",
       "Year                    int64\n",
       "Month                   int64\n",
       "Day                     int64\n",
       "Tag                    object\n",
       "Reading_Time            int64\n",
       "Claps                 float64\n",
       "Comment                 int64\n",
       "no_of_blockquotes       int64\n",
       "no_of_bolded_text       int64\n",
       "no_of_italics_text      int64\n",
       "no_of_figures_text      int64\n",
       "no_of_code_chunks       int64\n",
       "compound_senti        float64\n",
       "neg_senti             float64\n",
       "neu_senti             float64\n",
       "pos_senti             float64\n",
       "dtype: object"
      ]
     },
     "execution_count": 177,
     "metadata": {},
     "output_type": "execute_result"
    }
   ],
   "source": [
    "df_features.dtypes"
   ]
  },
  {
   "cell_type": "code",
   "execution_count": 182,
   "metadata": {},
   "outputs": [],
   "source": [
    "df_features['Date'] = pd.to_datetime(df_features[[\"Year\",\"Month\",\"Day\"]])"
   ]
  },
  {
   "cell_type": "code",
   "execution_count": 183,
   "metadata": {},
   "outputs": [],
   "source": [
    "df_features = df_features.sort_values('Date')"
   ]
  },
  {
   "cell_type": "code",
   "execution_count": 186,
   "metadata": {},
   "outputs": [],
   "source": [
    "df_features['week'] = df_features['Date'].dt.week"
   ]
  },
  {
   "cell_type": "code",
   "execution_count": 189,
   "metadata": {},
   "outputs": [
    {
     "data": {
      "text/html": [
       "<div>\n",
       "<style scoped>\n",
       "    .dataframe tbody tr th:only-of-type {\n",
       "        vertical-align: middle;\n",
       "    }\n",
       "\n",
       "    .dataframe tbody tr th {\n",
       "        vertical-align: top;\n",
       "    }\n",
       "\n",
       "    .dataframe thead th {\n",
       "        text-align: right;\n",
       "    }\n",
       "</style>\n",
       "<table border=\"1\" class=\"dataframe\">\n",
       "  <thead>\n",
       "    <tr style=\"text-align: right;\">\n",
       "      <th></th>\n",
       "      <th>Title</th>\n",
       "      <th>Subtitle</th>\n",
       "      <th>Image</th>\n",
       "      <th>Author</th>\n",
       "      <th>Publication</th>\n",
       "      <th>Year</th>\n",
       "      <th>Month</th>\n",
       "      <th>Day</th>\n",
       "      <th>Tag</th>\n",
       "      <th>Reading_Time</th>\n",
       "      <th>...</th>\n",
       "      <th>no_of_bolded_text</th>\n",
       "      <th>no_of_italics_text</th>\n",
       "      <th>no_of_figures_text</th>\n",
       "      <th>no_of_code_chunks</th>\n",
       "      <th>compound_senti</th>\n",
       "      <th>neg_senti</th>\n",
       "      <th>neu_senti</th>\n",
       "      <th>pos_senti</th>\n",
       "      <th>Date</th>\n",
       "      <th>week</th>\n",
       "    </tr>\n",
       "  </thead>\n",
       "  <tbody>\n",
       "    <tr>\n",
       "      <th>44</th>\n",
       "      <td>Knowledge Graphs @ ICLR 2020</td>\n",
       "      <td>Hello, I hope you are all doing well during t...</td>\n",
       "      <td>1</td>\n",
       "      <td>Michael Galkin</td>\n",
       "      <td>no publication</td>\n",
       "      <td>2020</td>\n",
       "      <td>4</td>\n",
       "      <td>27</td>\n",
       "      <td>NLP</td>\n",
       "      <td>15</td>\n",
       "      <td>...</td>\n",
       "      <td>39</td>\n",
       "      <td>65</td>\n",
       "      <td>15</td>\n",
       "      <td>0</td>\n",
       "      <td>0.9998</td>\n",
       "      <td>0.031</td>\n",
       "      <td>0.871</td>\n",
       "      <td>0.098</td>\n",
       "      <td>2020-04-27</td>\n",
       "      <td>18</td>\n",
       "    </tr>\n",
       "    <tr>\n",
       "      <th>884</th>\n",
       "      <td>Natural Language Processing and Its impact on ...</td>\n",
       "      <td>no subtitle</td>\n",
       "      <td>1</td>\n",
       "      <td>Jeevan Jamakayala</td>\n",
       "      <td>Analytics Vidhya</td>\n",
       "      <td>2020</td>\n",
       "      <td>4</td>\n",
       "      <td>27</td>\n",
       "      <td>NLP</td>\n",
       "      <td>3</td>\n",
       "      <td>...</td>\n",
       "      <td>2</td>\n",
       "      <td>0</td>\n",
       "      <td>2</td>\n",
       "      <td>0</td>\n",
       "      <td>0.9987</td>\n",
       "      <td>0.014</td>\n",
       "      <td>0.828</td>\n",
       "      <td>0.158</td>\n",
       "      <td>2020-04-27</td>\n",
       "      <td>18</td>\n",
       "    </tr>\n",
       "    <tr>\n",
       "      <th>377</th>\n",
       "      <td>SPIKE-CORD</td>\n",
       "      <td>SPIKE-CORD is a powerful new tool for searchin...</td>\n",
       "      <td>1</td>\n",
       "      <td>Yoav Goldberg</td>\n",
       "      <td>AI2 Blog</td>\n",
       "      <td>2020</td>\n",
       "      <td>4</td>\n",
       "      <td>27</td>\n",
       "      <td>NLP</td>\n",
       "      <td>7</td>\n",
       "      <td>...</td>\n",
       "      <td>16</td>\n",
       "      <td>11</td>\n",
       "      <td>3</td>\n",
       "      <td>0</td>\n",
       "      <td>0.9978</td>\n",
       "      <td>0.026</td>\n",
       "      <td>0.877</td>\n",
       "      <td>0.097</td>\n",
       "      <td>2020-04-27</td>\n",
       "      <td>18</td>\n",
       "    </tr>\n",
       "    <tr>\n",
       "      <th>1183</th>\n",
       "      <td>Alleviate Cold Start Problem in Song Recommend...</td>\n",
       "      <td>no subtitle</td>\n",
       "      <td>1</td>\n",
       "      <td>Zhenghao Tan</td>\n",
       "      <td>no publication</td>\n",
       "      <td>2020</td>\n",
       "      <td>4</td>\n",
       "      <td>27</td>\n",
       "      <td>NLP</td>\n",
       "      <td>6</td>\n",
       "      <td>...</td>\n",
       "      <td>0</td>\n",
       "      <td>0</td>\n",
       "      <td>8</td>\n",
       "      <td>0</td>\n",
       "      <td>0.9580</td>\n",
       "      <td>0.036</td>\n",
       "      <td>0.904</td>\n",
       "      <td>0.060</td>\n",
       "      <td>2020-04-27</td>\n",
       "      <td>18</td>\n",
       "    </tr>\n",
       "    <tr>\n",
       "      <th>846</th>\n",
       "      <td>AI April NLP Math Teacher Challenge</td>\n",
       "      <td>TLDR; Build a model that can perform automatic...</td>\n",
       "      <td>1</td>\n",
       "      <td>AaronAri) Bornstein</td>\n",
       "      <td>Microsoft Azure</td>\n",
       "      <td>2020</td>\n",
       "      <td>4</td>\n",
       "      <td>27</td>\n",
       "      <td>NLP</td>\n",
       "      <td>2</td>\n",
       "      <td>...</td>\n",
       "      <td>1</td>\n",
       "      <td>0</td>\n",
       "      <td>2</td>\n",
       "      <td>0</td>\n",
       "      <td>0.9571</td>\n",
       "      <td>0.042</td>\n",
       "      <td>0.797</td>\n",
       "      <td>0.161</td>\n",
       "      <td>2020-04-27</td>\n",
       "      <td>18</td>\n",
       "    </tr>\n",
       "    <tr>\n",
       "      <th>...</th>\n",
       "      <td>...</td>\n",
       "      <td>...</td>\n",
       "      <td>...</td>\n",
       "      <td>...</td>\n",
       "      <td>...</td>\n",
       "      <td>...</td>\n",
       "      <td>...</td>\n",
       "      <td>...</td>\n",
       "      <td>...</td>\n",
       "      <td>...</td>\n",
       "      <td>...</td>\n",
       "      <td>...</td>\n",
       "      <td>...</td>\n",
       "      <td>...</td>\n",
       "      <td>...</td>\n",
       "      <td>...</td>\n",
       "      <td>...</td>\n",
       "      <td>...</td>\n",
       "      <td>...</td>\n",
       "      <td>...</td>\n",
       "      <td>...</td>\n",
       "    </tr>\n",
       "    <tr>\n",
       "      <th>588</th>\n",
       "      <td>Deep Learning for Natural Language Processing ...</td>\n",
       "      <td>Reading Comprehension using Expo</td>\n",
       "      <td>1</td>\n",
       "      <td>Yuefeng Zhang, PhD</td>\n",
       "      <td>Towards Data Science</td>\n",
       "      <td>2020</td>\n",
       "      <td>5</td>\n",
       "      <td>1</td>\n",
       "      <td>NLP</td>\n",
       "      <td>8</td>\n",
       "      <td>...</td>\n",
       "      <td>6</td>\n",
       "      <td>32</td>\n",
       "      <td>5</td>\n",
       "      <td>12</td>\n",
       "      <td>0.9874</td>\n",
       "      <td>0.000</td>\n",
       "      <td>0.963</td>\n",
       "      <td>0.037</td>\n",
       "      <td>2020-05-01</td>\n",
       "      <td>18</td>\n",
       "    </tr>\n",
       "    <tr>\n",
       "      <th>551</th>\n",
       "      <td>Top Free Machine Learning Courses With Certifi...</td>\n",
       "      <td>no subtitle</td>\n",
       "      <td>1</td>\n",
       "      <td>Python Learning</td>\n",
       "      <td>no publication</td>\n",
       "      <td>2020</td>\n",
       "      <td>5</td>\n",
       "      <td>1</td>\n",
       "      <td>NLP</td>\n",
       "      <td>1</td>\n",
       "      <td>...</td>\n",
       "      <td>0</td>\n",
       "      <td>0</td>\n",
       "      <td>1</td>\n",
       "      <td>0</td>\n",
       "      <td>0.8779</td>\n",
       "      <td>0.000</td>\n",
       "      <td>0.736</td>\n",
       "      <td>0.264</td>\n",
       "      <td>2020-05-01</td>\n",
       "      <td>18</td>\n",
       "    </tr>\n",
       "    <tr>\n",
       "      <th>459</th>\n",
       "      <td>Transformers: A curious case of attention</td>\n",
       "      <td>In this post we will go through the intricacie...</td>\n",
       "      <td>1</td>\n",
       "      <td>Abhishek Perambai</td>\n",
       "      <td>Analytics Vidhya</td>\n",
       "      <td>2020</td>\n",
       "      <td>5</td>\n",
       "      <td>1</td>\n",
       "      <td>NLP</td>\n",
       "      <td>7</td>\n",
       "      <td>...</td>\n",
       "      <td>13</td>\n",
       "      <td>5</td>\n",
       "      <td>8</td>\n",
       "      <td>0</td>\n",
       "      <td>0.9973</td>\n",
       "      <td>0.033</td>\n",
       "      <td>0.876</td>\n",
       "      <td>0.091</td>\n",
       "      <td>2020-05-01</td>\n",
       "      <td>18</td>\n",
       "    </tr>\n",
       "    <tr>\n",
       "      <th>871</th>\n",
       "      <td>Five Cool Python Libraries for Data Science</td>\n",
       "      <td>Check out these 5 cool Python libraries that t...</td>\n",
       "      <td>1</td>\n",
       "      <td>Arpit Bhushan Sharma</td>\n",
       "      <td>Machine Learning with ABS</td>\n",
       "      <td>2020</td>\n",
       "      <td>5</td>\n",
       "      <td>1</td>\n",
       "      <td>NLP</td>\n",
       "      <td>5</td>\n",
       "      <td>...</td>\n",
       "      <td>45</td>\n",
       "      <td>1</td>\n",
       "      <td>8</td>\n",
       "      <td>15</td>\n",
       "      <td>0.9971</td>\n",
       "      <td>0.031</td>\n",
       "      <td>0.807</td>\n",
       "      <td>0.162</td>\n",
       "      <td>2020-05-01</td>\n",
       "      <td>18</td>\n",
       "    </tr>\n",
       "    <tr>\n",
       "      <th>1486</th>\n",
       "      <td>no title</td>\n",
       "      <td>no subtitle</td>\n",
       "      <td>0</td>\n",
       "      <td>Nick Saraev</td>\n",
       "      <td>no publication</td>\n",
       "      <td>2020</td>\n",
       "      <td>5</td>\n",
       "      <td>1</td>\n",
       "      <td>NLP</td>\n",
       "      <td>0</td>\n",
       "      <td>...</td>\n",
       "      <td>3</td>\n",
       "      <td>5</td>\n",
       "      <td>6</td>\n",
       "      <td>0</td>\n",
       "      <td>0.9863</td>\n",
       "      <td>0.031</td>\n",
       "      <td>0.897</td>\n",
       "      <td>0.072</td>\n",
       "      <td>2020-05-01</td>\n",
       "      <td>18</td>\n",
       "    </tr>\n",
       "  </tbody>\n",
       "</table>\n",
       "<p>100 rows × 23 columns</p>\n",
       "</div>"
      ],
      "text/plain": [
       "                                                  Title  \\\n",
       "44                         Knowledge Graphs @ ICLR 2020   \n",
       "884   Natural Language Processing and Its impact on ...   \n",
       "377                                          SPIKE-CORD   \n",
       "1183  Alleviate Cold Start Problem in Song Recommend...   \n",
       "846                 AI April NLP Math Teacher Challenge   \n",
       "...                                                 ...   \n",
       "588   Deep Learning for Natural Language Processing ...   \n",
       "551   Top Free Machine Learning Courses With Certifi...   \n",
       "459           Transformers: A curious case of attention   \n",
       "871         Five Cool Python Libraries for Data Science   \n",
       "1486                                           no title   \n",
       "\n",
       "                                               Subtitle  Image  \\\n",
       "44     Hello, I hope you are all doing well during t...      1   \n",
       "884                                         no subtitle      1   \n",
       "377   SPIKE-CORD is a powerful new tool for searchin...      1   \n",
       "1183                                        no subtitle      1   \n",
       "846   TLDR; Build a model that can perform automatic...      1   \n",
       "...                                                 ...    ...   \n",
       "588                    Reading Comprehension using Expo      1   \n",
       "551                                         no subtitle      1   \n",
       "459   In this post we will go through the intricacie...      1   \n",
       "871   Check out these 5 cool Python libraries that t...      1   \n",
       "1486                                        no subtitle      0   \n",
       "\n",
       "                    Author                Publication  Year  Month  Day  Tag  \\\n",
       "44          Michael Galkin             no publication  2020      4   27  NLP   \n",
       "884      Jeevan Jamakayala           Analytics Vidhya  2020      4   27  NLP   \n",
       "377          Yoav Goldberg                   AI2 Blog  2020      4   27  NLP   \n",
       "1183          Zhenghao Tan             no publication  2020      4   27  NLP   \n",
       "846    AaronAri) Bornstein            Microsoft Azure  2020      4   27  NLP   \n",
       "...                    ...                        ...   ...    ...  ...  ...   \n",
       "588     Yuefeng Zhang, PhD       Towards Data Science  2020      5    1  NLP   \n",
       "551        Python Learning             no publication  2020      5    1  NLP   \n",
       "459      Abhishek Perambai           Analytics Vidhya  2020      5    1  NLP   \n",
       "871   Arpit Bhushan Sharma  Machine Learning with ABS  2020      5    1  NLP   \n",
       "1486           Nick Saraev             no publication  2020      5    1  NLP   \n",
       "\n",
       "      Reading_Time  ...  no_of_bolded_text  no_of_italics_text  \\\n",
       "44              15  ...                 39                  65   \n",
       "884              3  ...                  2                   0   \n",
       "377              7  ...                 16                  11   \n",
       "1183             6  ...                  0                   0   \n",
       "846              2  ...                  1                   0   \n",
       "...            ...  ...                ...                 ...   \n",
       "588              8  ...                  6                  32   \n",
       "551              1  ...                  0                   0   \n",
       "459              7  ...                 13                   5   \n",
       "871              5  ...                 45                   1   \n",
       "1486             0  ...                  3                   5   \n",
       "\n",
       "      no_of_figures_text  no_of_code_chunks  compound_senti  neg_senti  \\\n",
       "44                    15                  0          0.9998      0.031   \n",
       "884                    2                  0          0.9987      0.014   \n",
       "377                    3                  0          0.9978      0.026   \n",
       "1183                   8                  0          0.9580      0.036   \n",
       "846                    2                  0          0.9571      0.042   \n",
       "...                  ...                ...             ...        ...   \n",
       "588                    5                 12          0.9874      0.000   \n",
       "551                    1                  0          0.8779      0.000   \n",
       "459                    8                  0          0.9973      0.033   \n",
       "871                    8                 15          0.9971      0.031   \n",
       "1486                   6                  0          0.9863      0.031   \n",
       "\n",
       "      neu_senti  pos_senti       Date  week  \n",
       "44        0.871      0.098 2020-04-27    18  \n",
       "884       0.828      0.158 2020-04-27    18  \n",
       "377       0.877      0.097 2020-04-27    18  \n",
       "1183      0.904      0.060 2020-04-27    18  \n",
       "846       0.797      0.161 2020-04-27    18  \n",
       "...         ...        ...        ...   ...  \n",
       "588       0.963      0.037 2020-05-01    18  \n",
       "551       0.736      0.264 2020-05-01    18  \n",
       "459       0.876      0.091 2020-05-01    18  \n",
       "871       0.807      0.162 2020-05-01    18  \n",
       "1486      0.897      0.072 2020-05-01    18  \n",
       "\n",
       "[100 rows x 23 columns]"
      ]
     },
     "execution_count": 189,
     "metadata": {},
     "output_type": "execute_result"
    }
   ],
   "source": [
    "df_features.tail(100)"
   ]
  },
  {
   "cell_type": "code",
   "execution_count": 204,
   "metadata": {},
   "outputs": [
    {
     "data": {
      "text/html": [
       "\n",
       "        <iframe\n",
       "            width=\"100%\"\n",
       "            height=\"525px\"\n",
       "            src=\"https://plotly.com/~tej_bat/50.embed\"\n",
       "            frameborder=\"0\"\n",
       "            allowfullscreen\n",
       "        ></iframe>\n",
       "        "
      ],
      "text/plain": [
       "<IPython.lib.display.IFrame at 0x122a4bf90>"
      ]
     },
     "execution_count": 204,
     "metadata": {},
     "output_type": "execute_result"
    }
   ],
   "source": [
    "fig = px.scatter(df_features.head(1487), x=\"Reading_Time\", y=\"Claps\", animation_frame=\"week\", animation_group=\"Author\",\n",
    "                 size=\"Claps\", color=\"Publication\", hover_name=\"Author\",size_max=100)\n",
    "fig.update_layout(title = 'Week Wise Trend')\n",
    "\n",
    "py.iplot(fig, filename='Week_Wise_Trend')"
   ]
  },
  {
   "cell_type": "code",
   "execution_count": 264,
   "metadata": {},
   "outputs": [],
   "source": [
    "from vaderSentiment.vaderSentiment import SentimentIntensityAnalyzer\n",
    "analyzer= SentimentIntensityAnalyzer()\n",
    "\n",
    "df_features_1['Title_compound_senti'] = [analyzer.polarity_scores(v)['compound'] for v in df_features_1['Title']]\n",
    "df_features_1['Subtitle_compund_senti'] = [analyzer.polarity_scores(v)['compound'] for v in df_features_1['Subtitle']]\n"
   ]
  },
  {
   "cell_type": "code",
   "execution_count": 246,
   "metadata": {},
   "outputs": [],
   "source": [
    "df_features_1['Publication'] = df_features_1['Publication'].apply(lambda x: 0 if x == 'no publication' else 1)"
   ]
  },
  {
   "cell_type": "code",
   "execution_count": 203,
   "metadata": {},
   "outputs": [
    {
     "data": {
      "text/plain": [
       "1487"
      ]
     },
     "execution_count": 203,
     "metadata": {},
     "output_type": "execute_result"
    }
   ],
   "source": [
    "len(df_features)"
   ]
  },
  {
   "cell_type": "code",
   "execution_count": null,
   "metadata": {},
   "outputs": [],
   "source": [
    "df_features_1 = df_features.drop(['Author','Year','Month','Day','Date','week'],inplace = False , axis = 1)"
   ]
  },
  {
   "cell_type": "code",
   "execution_count": null,
   "metadata": {},
   "outputs": [],
   "source": [
    "df_features_1.head(2)"
   ]
  }
 ],
 "metadata": {
  "kernelspec": {
   "display_name": "Python 3",
   "language": "python",
   "name": "python3"
  },
  "language_info": {
   "codemirror_mode": {
    "name": "ipython",
    "version": 3
   },
   "file_extension": ".py",
   "mimetype": "text/x-python",
   "name": "python",
   "nbconvert_exporter": "python",
   "pygments_lexer": "ipython3",
   "version": "3.7.6"
  }
 },
 "nbformat": 4,
 "nbformat_minor": 4
}
